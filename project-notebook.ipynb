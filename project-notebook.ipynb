{
 "cells": [
  {
   "attachments": {},
   "cell_type": "markdown",
   "metadata": {},
   "source": [
    "# App Setup and Initialization"
   ]
  },
  {
   "attachments": {},
   "cell_type": "markdown",
   "metadata": {},
   "source": [
    "1. run 'npm init -y' which will create a 'package.json' file with the following code:"
   ]
  },
  {
   "cell_type": "code",
   "execution_count": null,
   "metadata": {
    "vscode": {
     "languageId": "javascript"
    }
   },
   "outputs": [],
   "source": [
    "{\n",
    "  \"name\": \"solomon-electron\",\n",
    "  \"version\": \"1.0.0\",\n",
    "  \"description\": \"\",\n",
    "  \"main\": \"index.js\",\n",
    "  \"scripts\": {\n",
    "    \"test\": \"echo \\\"Error: no test specified\\\" && exit 1\"\n",
    "  },\n",
    "  \"keywords\": [],\n",
    "  \"author\": \"\",\n",
    "  \"license\": \"ISC\"\n",
    "}"
   ]
  },
  {
   "attachments": {},
   "cell_type": "markdown",
   "metadata": {},
   "source": [
    "2. npm install electron next electron-builder\n",
    "<br>\n",
    "\n",
    "3. mkdir next && cd next\n",
    "<br>\n",
    "\n",
    "4. npx create-next-app@latest ."
   ]
  },
  {
   "cell_type": "code",
   "execution_count": null,
   "metadata": {
    "vscode": {
     "languageId": "javascript"
    }
   },
   "outputs": [],
   "source": [
    "Need to install the following packages:\n",
    "create-next-app@14.1.4\n",
    "Ok to proceed? (y) y\n",
    "✔ Would you like to use TypeScript? … Yes\n",
    "✔ Would you like to use ESLint? … Yes\n",
    "✔ Would you like to use Tailwind CSS? … Yes\n",
    "✔ Would you like to use `src/` directory? … Yes\n",
    "✔ Would you like to use App Router? (recommended) … Yes\n",
    "✔ Would you like to customize the default import alias (@)? … No\n",
    "\n",
    "Creating a new Next.js app in /Users/matthewsimon/Documents/GitHub/acdc.electron/solomon-electron/next.\n",
    "\n",
    "Using npm.\n",
    "\n",
    "Initializing project with template: app-tw \n",
    "\n",
    "\n",
    "Installing dependencies:\n",
    "- react\n",
    "- react-dom\n",
    "- next\n",
    "\n",
    "Installing devDependencies:\n",
    "- typescript\n",
    "- @types/node\n",
    "- @types/react\n",
    "- @types/react-dom\n",
    "- autoprefixer\n",
    "- postcss\n",
    "- tailwindcss\n",
    "- eslint\n",
    "- eslint-config-next\n",
    "\n",
    "\n",
    "added 369 packages, and audited 370 packages in 10s\n",
    "\n",
    "136 packages are looking for funding\n",
    "  run `npm fund` for details\n",
    "\n",
    "found 0 vulnerabilities\n",
    "Success! Created next at /Users/matthewsimon/Documents/GitHub/acdc.electron/solomon-electron/next"
   ]
  },
  {
   "attachments": {},
   "cell_type": "markdown",
   "metadata": {},
   "source": [
    "5. cd /Users/matthewsimon/Documents/GitHub/acdc.electron/solomon-electron\n",
    "<br>\n",
    "\n",
    "6. mkdir ../electron && cd ../electron\n",
    "<br> \n",
    "\n",
    "7. Inside the electron folder, create a file named main.js. This will be your Electron main process file. \n",
    "<br>\n",
    "\n",
    "8. Add the following scripts to 'package.json'"
   ]
  },
  {
   "cell_type": "code",
   "execution_count": null,
   "metadata": {
    "vscode": {
     "languageId": "javascript"
    }
   },
   "outputs": [],
   "source": [
    "\"scripts\": {\n",
    "\t\"dev\": \"next dev\",\n",
    "\t\"build\": \"next build && next export && electron-builder\",\n",
    "\t\"start\": \"next start\",\n",
    "\t\"electron-dev\": \"ELECTRON_START_URL=http://localhost:3000 electron .\",\n",
    "\t\"electron\": \"electron .\"\n",
    "  }"
   ]
  },
  {
   "attachments": {},
   "cell_type": "markdown",
   "metadata": {},
   "source": [
    "9. cd next && npm run dev\n",
    "<br>\n",
    "\n",
    "10. npm run electron-dev\n",
    "<br>\n",
    "\n",
    "11. Packaging your application: When you're ready to package your application for distribution, use the following command in the project root:   \n",
    "'npm run build'    \n",
    "<br>\n",
    "\n",
    "This command builds your Next.js application, exports it, and packages it with Electron Builder based on the configurations you specify in your package.json.\n",
    "\n",
    "Remember, this is a basic setup to get you started. Depending on your project needs, you may want to customize the Electron configuration, Next.js settings, and the build process further."
   ]
  },
  {
   "attachments": {},
   "cell_type": "markdown",
   "metadata": {},
   "source": [
    "# Run Development Startup"
   ]
  },
  {
   "attachments": {},
   "cell_type": "markdown",
   "metadata": {},
   "source": [
    "1. git clone https://github.com/acdc-digital/solomon-electron\n",
    "2. cd /Users/matthewsimon/Documents/GitHub/acdc.electron/solomon-electron   \n",
    "3. npm i \n",
    "4. cd /Users/matthewsimon/Documents/GitHub/acdc.electron/solomon-electron/next   \n",
    "5. npm run dev   \n",
    "6. npx convex dev\n",
    "7. cd /Users/matthewsimon/Documents/GitHub/acdc.electron/solomon-electron   \n",
    "8. npm run electron-dev"
   ]
  },
  {
   "attachments": {},
   "cell_type": "markdown",
   "metadata": {},
   "source": []
  },
  {
   "attachments": {},
   "cell_type": "markdown",
   "metadata": {},
   "source": [
    "# Application Development Part 001"
   ]
  },
  {
   "attachments": {},
   "cell_type": "markdown",
   "metadata": {},
   "source": [
    "1. cd /Users/matthewsimon/Documents/GitHub/acdc.electron/solomon-electron/next\n",
    "<br>\n",
    "\n",
    "2. add ShadCN\n",
    "<br> \n",
    "\n",
    "3. add Convex/ initialize Convex Dev \n",
    "<br>\n",
    "\n",
    "4. "
   ]
  },
  {
   "attachments": {},
   "cell_type": "markdown",
   "metadata": {},
   "source": []
  }
 ],
 "metadata": {
  "language_info": {
   "name": "python"
  },
  "orig_nbformat": 4
 },
 "nbformat": 4,
 "nbformat_minor": 2
}
